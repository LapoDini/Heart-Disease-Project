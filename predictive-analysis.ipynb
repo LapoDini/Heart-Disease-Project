{
 "cells": [
  {
   "cell_type": "code",
   "execution_count": 1,
   "id": "b882c70e",
   "metadata": {
    "_cell_guid": "b1076dfc-b9ad-4769-8c92-a6c4dae69d19",
    "_uuid": "8f2839f25d086af736a60e9eeb907d3b93b6e0e5",
    "execution": {
     "iopub.execute_input": "2022-11-11T14:41:45.602050Z",
     "iopub.status.busy": "2022-11-11T14:41:45.600999Z",
     "iopub.status.idle": "2022-11-11T14:41:47.190205Z",
     "shell.execute_reply": "2022-11-11T14:41:47.188933Z"
    },
    "papermill": {
     "duration": 1.601938,
     "end_time": "2022-11-11T14:41:47.193314",
     "exception": false,
     "start_time": "2022-11-11T14:41:45.591376",
     "status": "completed"
    },
    "tags": []
   },
   "outputs": [],
   "source": [
    "# Import all the tools we need\n",
    "\n",
    "# Regular EDA (exploratory data analysis) and plotting libraries\n",
    "import numpy as np\n",
    "import pandas as pd\n",
    "import matplotlib.pyplot as plt\n",
    "import seaborn as sns\n",
    "\n",
    "# We want our plots to appear inside the notebook\n",
    "%matplotlib inline \n",
    "\n",
    "# Models from Sckit-Learn\n",
    "from sklearn.linear_model import LogisticRegression\n",
    "from sklearn.neighbors import KNeighborsClassifier\n",
    "from sklearn.ensemble import RandomForestClassifier\n",
    "\n",
    "# Model Evaluations\n",
    "from sklearn.model_selection import train_test_split, cross_val_score\n",
    "from sklearn.model_selection import RandomizedSearchCV, GridSearchCV\n",
    "from sklearn.metrics import confusion_matrix, classification_report\n",
    "from sklearn.metrics import precision_score, recall_score, f1_score\n",
    "from sklearn.metrics import plot_roc_curve"
   ]
  },
  {
   "cell_type": "code",
   "execution_count": 2,
   "id": "ff62a7b5",
   "metadata": {
    "execution": {
     "iopub.execute_input": "2022-11-11T14:41:47.208845Z",
     "iopub.status.busy": "2022-11-11T14:41:47.207849Z",
     "iopub.status.idle": "2022-11-11T14:41:47.242800Z",
     "shell.execute_reply": "2022-11-11T14:41:47.241313Z"
    },
    "papermill": {
     "duration": 0.047382,
     "end_time": "2022-11-11T14:41:47.247560",
     "exception": false,
     "start_time": "2022-11-11T14:41:47.200178",
     "status": "completed"
    },
    "tags": []
   },
   "outputs": [
    {
     "data": {
      "text/plain": [
       "(297, 14)"
      ]
     },
     "execution_count": 2,
     "metadata": {},
     "output_type": "execute_result"
    }
   ],
   "source": [
    "df = pd.read_csv(\"../input/heart-disease-cleveland-uci/heart_cleveland_upload.csv\")\n",
    "df.shape #(rows, columns)"
   ]
  },
  {
   "cell_type": "markdown",
   "id": "cb30689f",
   "metadata": {
    "papermill": {
     "duration": 0.006661,
     "end_time": "2022-11-11T14:41:47.263034",
     "exception": false,
     "start_time": "2022-11-11T14:41:47.256373",
     "status": "completed"
    },
    "tags": []
   },
   "source": [
    "# Predictive Analysis\n",
    "\n",
    "We now want to find what are the most important features in prediction of new conditions.\n",
    "​\n",
    "We have done some EDA on data. We have found some correlations but let's see if we can refine this.\n",
    "​\n",
    "We can do a Data Driven EDA, modeling a machine to find patterns between the data.\n",
    "​\n",
    "This is a **classification** problem with only two classes (0 = No disease, 1 = Disease).\n",
    "​\n",
    "We are going to try some different models from `Scikit-Learn` library, follwing this model map:\n",
    "* https://scikit-learn.org/stable/tutorial/machine_learning_map/index.html"
   ]
  },
  {
   "cell_type": "markdown",
   "id": "e33bac23",
   "metadata": {
    "papermill": {
     "duration": 0.006067,
     "end_time": "2022-11-11T14:41:47.276763",
     "exception": false,
     "start_time": "2022-11-11T14:41:47.270696",
     "status": "completed"
    },
    "tags": []
   },
   "source": [
    "## Preprocessing the data\n",
    "\n",
    "We use `train_test_split()` from `Scikit-Learn` library to have our train and validation set.\n",
    "\n",
    "After that we normalize the data."
   ]
  },
  {
   "cell_type": "markdown",
   "id": "8be00deb",
   "metadata": {
    "papermill": {
     "duration": 0.006024,
     "end_time": "2022-11-11T14:41:47.289087",
     "exception": false,
     "start_time": "2022-11-11T14:41:47.283063",
     "status": "completed"
    },
    "tags": []
   },
   "source": [
    "### Spilt the dataset\n",
    "\n",
    "Create our own Train and Validation set."
   ]
  },
  {
   "cell_type": "code",
   "execution_count": 3,
   "id": "03b6ba02",
   "metadata": {
    "execution": {
     "iopub.execute_input": "2022-11-11T14:41:47.304595Z",
     "iopub.status.busy": "2022-11-11T14:41:47.303243Z",
     "iopub.status.idle": "2022-11-11T14:41:47.324706Z",
     "shell.execute_reply": "2022-11-11T14:41:47.323727Z"
    },
    "papermill": {
     "duration": 0.031768,
     "end_time": "2022-11-11T14:41:47.327130",
     "exception": false,
     "start_time": "2022-11-11T14:41:47.295362",
     "status": "completed"
    },
    "tags": []
   },
   "outputs": [],
   "source": [
    "# Creating X and y\n",
    "X = df.drop(\"condition\", axis = 1)\n",
    "y = df[\"condition\"]\n",
    "\n",
    "# Splitting the data in train and test set\n",
    "X_train, X_test, y_train, y_test = train_test_split(X, y, test_size = 0.2, random_state = 42)"
   ]
  },
  {
   "cell_type": "markdown",
   "id": "929c4871",
   "metadata": {
    "execution": {
     "iopub.execute_input": "2022-11-11T14:26:59.741825Z",
     "iopub.status.busy": "2022-11-11T14:26:59.741247Z",
     "iopub.status.idle": "2022-11-11T14:26:59.763303Z",
     "shell.execute_reply": "2022-11-11T14:26:59.761961Z",
     "shell.execute_reply.started": "2022-11-11T14:26:59.741713Z"
    },
    "papermill": {
     "duration": 0.005951,
     "end_time": "2022-11-11T14:41:47.339485",
     "exception": false,
     "start_time": "2022-11-11T14:41:47.333534",
     "status": "completed"
    },
    "tags": []
   },
   "source": [
    "### Normalizing the data"
   ]
  },
  {
   "cell_type": "code",
   "execution_count": 4,
   "id": "e19a535b",
   "metadata": {
    "execution": {
     "iopub.execute_input": "2022-11-11T14:41:47.355426Z",
     "iopub.status.busy": "2022-11-11T14:41:47.354963Z",
     "iopub.status.idle": "2022-11-11T14:41:47.368406Z",
     "shell.execute_reply": "2022-11-11T14:41:47.367248Z"
    },
    "papermill": {
     "duration": 0.025213,
     "end_time": "2022-11-11T14:41:47.370947",
     "exception": false,
     "start_time": "2022-11-11T14:41:47.345734",
     "status": "completed"
    },
    "tags": []
   },
   "outputs": [],
   "source": [
    "from sklearn.preprocessing import StandardScaler\n",
    "sclr = StandardScaler()\n",
    "\n",
    "X_train_std = sclr.fit_transform(X_train)\n",
    "X_test_std = sclr.transform(X_test)"
   ]
  },
  {
   "cell_type": "markdown",
   "id": "4769e18d",
   "metadata": {
    "papermill": {
     "duration": 0.00596,
     "end_time": "2022-11-11T14:41:47.383359",
     "exception": false,
     "start_time": "2022-11-11T14:41:47.377399",
     "status": "completed"
    },
    "tags": []
   },
   "source": [
    "## Modeling"
   ]
  },
  {
   "cell_type": "markdown",
   "id": "21ae9162",
   "metadata": {
    "execution": {
     "iopub.execute_input": "2022-11-11T14:32:27.825157Z",
     "iopub.status.busy": "2022-11-11T14:32:27.824666Z",
     "iopub.status.idle": "2022-11-11T14:32:27.834866Z",
     "shell.execute_reply": "2022-11-11T14:32:27.832662Z",
     "shell.execute_reply.started": "2022-11-11T14:32:27.825117Z"
    },
    "papermill": {
     "duration": 0.005956,
     "end_time": "2022-11-11T14:41:47.395641",
     "exception": false,
     "start_time": "2022-11-11T14:41:47.389685",
     "status": "completed"
    },
    "tags": []
   },
   "source": [
    "### Baseline Models\n",
    "\n",
    "Here we want to models on our train data and score them over our validation test to see the baseline performance of each model. \n",
    "\n",
    "We choose:\n",
    "* `LogisticRegression`\n",
    "* `RandomForestClassifier`\n",
    "* `KKeighborsClassifier`\n",
    "    "
   ]
  },
  {
   "cell_type": "code",
   "execution_count": 5,
   "id": "2ab11c84",
   "metadata": {
    "execution": {
     "iopub.execute_input": "2022-11-11T14:41:47.410003Z",
     "iopub.status.busy": "2022-11-11T14:41:47.409599Z",
     "iopub.status.idle": "2022-11-11T14:41:47.417808Z",
     "shell.execute_reply": "2022-11-11T14:41:47.416376Z"
    },
    "papermill": {
     "duration": 0.018305,
     "end_time": "2022-11-11T14:41:47.420219",
     "exception": false,
     "start_time": "2022-11-11T14:41:47.401914",
     "status": "completed"
    },
    "tags": []
   },
   "outputs": [],
   "source": [
    "models = {\"Logistic Regression\": LogisticRegression(),\n",
    "          \"Random Forest Classifier\": RandomForestClassifier(),\n",
    "          \"KNN\": KNeighborsClassifier()}\n",
    "\n",
    "# Define a function to fit and score our models\n",
    "def fit_and_score(models, X_train, X_test, y_train, y_test):\n",
    "    \"\"\"\n",
    "    Fits and evaluates given machine learning models.\n",
    "    models: a dict of different Scikit-Learn machine learning models\n",
    "    X_train : training data (no labels)\n",
    "    X_test : testing data (no labels) \n",
    "    y_train : training labels\n",
    "    y_test : test labels\n",
    "    \"\"\"\n",
    "    # Setup random seed\n",
    "    np.random.seed(42)\n",
    "    \n",
    "    # Setup an empty dictionary to record scores \n",
    "    model_scores = {}\n",
    "    \n",
    "    # Iterating over models\n",
    "    for name, model in models.items():\n",
    "        # Fit the model\n",
    "        model.fit(X_train, y_train)\n",
    "        # Scoring the model and update model_scores\n",
    "        model_scores[name] = model.score(X_test, y_test)\n",
    "    \n",
    "    return model_scores"
   ]
  },
  {
   "cell_type": "code",
   "execution_count": 6,
   "id": "78b1c134",
   "metadata": {
    "execution": {
     "iopub.execute_input": "2022-11-11T14:41:47.434470Z",
     "iopub.status.busy": "2022-11-11T14:41:47.434079Z",
     "iopub.status.idle": "2022-11-11T14:41:47.622299Z",
     "shell.execute_reply": "2022-11-11T14:41:47.620798Z"
    },
    "papermill": {
     "duration": 0.198329,
     "end_time": "2022-11-11T14:41:47.624905",
     "exception": false,
     "start_time": "2022-11-11T14:41:47.426576",
     "status": "completed"
    },
    "tags": []
   },
   "outputs": [
    {
     "data": {
      "text/plain": [
       "{'Logistic Regression': 0.7333333333333333,\n",
       " 'Random Forest Classifier': 0.7,\n",
       " 'KNN': 0.7333333333333333}"
      ]
     },
     "execution_count": 6,
     "metadata": {},
     "output_type": "execute_result"
    }
   ],
   "source": [
    "model_scores = fit_and_score(models,\n",
    "                             X_train = X_train_std,\n",
    "                             X_test = X_test_std,\n",
    "                             y_train = y_train,\n",
    "                             y_test = y_test)\n",
    "\n",
    "model_scores"
   ]
  },
  {
   "cell_type": "code",
   "execution_count": 7,
   "id": "0e923db2",
   "metadata": {
    "execution": {
     "iopub.execute_input": "2022-11-11T14:41:47.639794Z",
     "iopub.status.busy": "2022-11-11T14:41:47.639058Z",
     "iopub.status.idle": "2022-11-11T14:41:47.934531Z",
     "shell.execute_reply": "2022-11-11T14:41:47.933123Z"
    },
    "papermill": {
     "duration": 0.305602,
     "end_time": "2022-11-11T14:41:47.937030",
     "exception": false,
     "start_time": "2022-11-11T14:41:47.631428",
     "status": "completed"
    },
    "tags": []
   },
   "outputs": [
    {
     "data": {
      "image/png": "[encoded data removed]",
      "text/plain": [
       "<Figure size 1080x720 with 1 Axes>"
      ]
     },
     "metadata": {
      "needs_background": "light"
     },
     "output_type": "display_data"
    }
   ],
   "source": [
    "model_compare = pd.DataFrame(model_scores, index = [\"accuracy\"])\n",
    "model_compare.T.plot.barh(figsize = (15, 10));\n",
    "plt.title(\"Baseline Models Performance\")\n",
    "plt.show()"
   ]
  },
  {
   "cell_type": "code",
   "execution_count": 8,
   "id": "86feb82d",
   "metadata": {
    "execution": {
     "iopub.execute_input": "2022-11-11T14:41:47.952827Z",
     "iopub.status.busy": "2022-11-11T14:41:47.951936Z",
     "iopub.status.idle": "2022-11-11T14:41:48.205315Z",
     "shell.execute_reply": "2022-11-11T14:41:48.204093Z"
    },
    "papermill": {
     "duration": 0.264159,
     "end_time": "2022-11-11T14:41:48.208191",
     "exception": false,
     "start_time": "2022-11-11T14:41:47.944032",
     "status": "completed"
    },
    "tags": []
   },
   "outputs": [],
   "source": [
    "train_scores = []\n",
    "test_scores = []\n",
    "\n",
    "n_neighbors = range(1, 21)\n",
    "\n",
    "# Setup KNN\n",
    "knn = KNeighborsClassifier()\n",
    "\n",
    "for i in n_neighbors:\n",
    "    knn.set_params(n_neighbors = i)\n",
    "    \n",
    "    # Fit the model\n",
    "    knn.fit(X_train_std, y_train)\n",
    "    \n",
    "    # Score the model\n",
    "    train_scores.append(knn.score(X_train_std, y_train))\n",
    "    test_scores.append(knn.score(X_test_std,y_test))"
   ]
  },
  {
   "cell_type": "code",
   "execution_count": 9,
   "id": "1d361935",
   "metadata": {
    "execution": {
     "iopub.execute_input": "2022-11-11T14:41:48.223947Z",
     "iopub.status.busy": "2022-11-11T14:41:48.223496Z",
     "iopub.status.idle": "2022-11-11T14:41:48.533786Z",
     "shell.execute_reply": "2022-11-11T14:41:48.532679Z"
    },
    "papermill": {
     "duration": 0.321211,
     "end_time": "2022-11-11T14:41:48.536514",
     "exception": false,
     "start_time": "2022-11-11T14:41:48.215303",
     "status": "completed"
    },
    "tags": []
   },
   "outputs": [
    {
     "name": "stdout",
     "output_type": "stream",
     "text": [
      "The best accuracy score with KNN, after tuning, is: 78.33%\n",
      "with the optimal number of neighbors: 10\n"
     ]
    },
    {
     "data": {
      "image/png": "[encoded data removed]",
      "text/plain": [
       "<Figure size 432x288 with 1 Axes>"
      ]
     },
     "metadata": {
      "needs_background": "light"
     },
     "output_type": "display_data"
    }
   ],
   "source": [
    "plt.plot(n_neighbors, train_scores, label = \" Train scores\")\n",
    "plt.plot(n_neighbors, test_scores, label = \"Test scores\")\n",
    "plt.xticks(range(1, 21, 1))\n",
    "plt.xlabel(\"Number of neighbours\")\n",
    "plt.ylabel(\"Accuracy\")\n",
    "plt.legend([\"Train set scores\", \"Test set scores\"]);\n",
    "\n",
    "print(f\"The best accuracy score with KNN, after tuning, is: {max(test_scores)*100:.2f}%\")\n",
    "print(f\"with the optimal number of neighbors: {test_scores.index(max(test_scores))+1}\")"
   ]
  },
  {
   "cell_type": "code",
   "execution_count": 10,
   "id": "2f63ff52",
   "metadata": {
    "execution": {
     "iopub.execute_input": "2022-11-11T14:41:48.552866Z",
     "iopub.status.busy": "2022-11-11T14:41:48.552474Z",
     "iopub.status.idle": "2022-11-11T14:42:04.895282Z",
     "shell.execute_reply": "2022-11-11T14:42:04.893743Z"
    },
    "papermill": {
     "duration": 16.354414,
     "end_time": "2022-11-11T14:42:04.898361",
     "exception": false,
     "start_time": "2022-11-11T14:41:48.543947",
     "status": "completed"
    },
    "tags": []
   },
   "outputs": [
    {
     "name": "stdout",
     "output_type": "stream",
     "text": [
      "Fitting 5 folds for each of 10 candidates, totalling 50 fits\n"
     ]
    },
    {
     "data": {
      "text/plain": [
       "RandomizedSearchCV(cv=5, estimator=RandomForestClassifier(random_state=42),\n",
       "                   n_jobs=-1,\n",
       "                   param_distributions={'bootstrap': [True, False],\n",
       "                                        'max_depth': range(10, 100, 10),\n",
       "                                        'min_samples_leaf': [1, 2, 4],\n",
       "                                        'min_samples_split': [2, 5, 10],\n",
       "                                        'n_estimators': range(10, 1000, 10)},\n",
       "                   scoring='accuracy', verbose=True)"
      ]
     },
     "execution_count": 10,
     "metadata": {},
     "output_type": "execute_result"
    }
   ],
   "source": [
    "n_estimators = range(10, 1000, 10)\n",
    "max_depth = range(10, 100, 10)\n",
    "params ={\"n_estimators\": n_estimators,\n",
    "         \"max_depth\": max_depth ,\n",
    "         \"min_samples_split\": [2, 5, 10],\n",
    "         \"min_samples_leaf\": [1, 2, 4],\n",
    "         \"bootstrap\": [True, False]}\n",
    "rf = RandomForestClassifier(random_state = 42)\n",
    "\n",
    "#Set up RandomizesSearchCV\n",
    "rs_rf = RandomizedSearchCV(estimator = rf,\n",
    "                           param_distributions = params, \n",
    "                           scoring = \"accuracy\",\n",
    "                           n_iter = 10,\n",
    "                           n_jobs = -1,\n",
    "                           cv = 5,\n",
    "                           verbose = True)\n",
    "\n",
    "# Fit the model with RSCV\n",
    "rs_rf.fit(X_train, y_train)"
   ]
  },
  {
   "cell_type": "code",
   "execution_count": 11,
   "id": "87dc1f6e",
   "metadata": {
    "execution": {
     "iopub.execute_input": "2022-11-11T14:42:04.915618Z",
     "iopub.status.busy": "2022-11-11T14:42:04.915196Z",
     "iopub.status.idle": "2022-11-11T14:42:05.033098Z",
     "shell.execute_reply": "2022-11-11T14:42:05.031721Z"
    },
    "papermill": {
     "duration": 0.129698,
     "end_time": "2022-11-11T14:42:05.035755",
     "exception": false,
     "start_time": "2022-11-11T14:42:04.906057",
     "status": "completed"
    },
    "tags": []
   },
   "outputs": [
    {
     "data": {
      "text/plain": [
       "(0.7166666666666667,\n",
       " {'n_estimators': 860,\n",
       "  'min_samples_split': 5,\n",
       "  'min_samples_leaf': 2,\n",
       "  'max_depth': 80,\n",
       "  'bootstrap': False})"
      ]
     },
     "execution_count": 11,
     "metadata": {},
     "output_type": "execute_result"
    }
   ],
   "source": [
    "rs_rf.score(X_test, y_test), rs_rf.best_params_"
   ]
  },
  {
   "cell_type": "code",
   "execution_count": 12,
   "id": "6c6667c2",
   "metadata": {
    "execution": {
     "iopub.execute_input": "2022-11-11T14:42:05.052829Z",
     "iopub.status.busy": "2022-11-11T14:42:05.052425Z",
     "iopub.status.idle": "2022-11-11T14:42:05.210281Z",
     "shell.execute_reply": "2022-11-11T14:42:05.208643Z"
    },
    "papermill": {
     "duration": 0.169789,
     "end_time": "2022-11-11T14:42:05.213195",
     "exception": false,
     "start_time": "2022-11-11T14:42:05.043406",
     "status": "completed"
    },
    "tags": []
   },
   "outputs": [
    {
     "name": "stdout",
     "output_type": "stream",
     "text": [
      "Fitting 5 folds for each of 5 candidates, totalling 25 fits\n"
     ]
    },
    {
     "data": {
      "text/plain": [
       "RandomizedSearchCV(cv=5,\n",
       "                   estimator=Pipeline(steps=[('sclr', StandardScaler()),\n",
       "                                             ('lr', LogisticRegression())]),\n",
       "                   n_iter=5, n_jobs=-1,\n",
       "                   param_distributions={'lr__C': [100, 10, 1, 0.1, 0.01],\n",
       "                                        'lr__penalty': ['l2'],\n",
       "                                        'lr__solver': ['liblinear']},\n",
       "                   scoring='accuracy', verbose=True)"
      ]
     },
     "execution_count": 12,
     "metadata": {},
     "output_type": "execute_result"
    }
   ],
   "source": [
    "# Creating a PipeLine to avoid data leakage from Standardization\n",
    "from sklearn.pipeline import Pipeline\n",
    "pipe = Pipeline([(\"sclr\", StandardScaler()), # StandardScaler \n",
    "                 (\"lr\", LogisticRegression()) #RandomForestClassifier\n",
    "                ])\n",
    "\n",
    "# Creating a dict of hyperparameters to tune\n",
    "\n",
    "params ={\"lr__C\": [100, 10, 1, 0.1, 0.01],\n",
    "         \"lr__solver\": [\"liblinear\"],\n",
    "         \"lr__penalty\": [\"l2\"]\n",
    "        }\n",
    "\n",
    "#Set up RandomizesSearchCV\n",
    "rs_lr = RandomizedSearchCV(estimator = pipe,\n",
    "                           param_distributions = params, \n",
    "                           scoring = \"accuracy\",\n",
    "                           n_iter = 5,\n",
    "                           n_jobs = -1,\n",
    "                           cv = 5,\n",
    "                           verbose = True)\n",
    "\n",
    "# Fit the model with RSCV\n",
    "rs_lr.fit(X_train, y_train)"
   ]
  },
  {
   "cell_type": "code",
   "execution_count": 13,
   "id": "a045e65d",
   "metadata": {
    "execution": {
     "iopub.execute_input": "2022-11-11T14:42:05.231388Z",
     "iopub.status.busy": "2022-11-11T14:42:05.230307Z",
     "iopub.status.idle": "2022-11-11T14:42:05.240801Z",
     "shell.execute_reply": "2022-11-11T14:42:05.239470Z"
    },
    "papermill": {
     "duration": 0.022251,
     "end_time": "2022-11-11T14:42:05.243509",
     "exception": false,
     "start_time": "2022-11-11T14:42:05.221258",
     "status": "completed"
    },
    "tags": []
   },
   "outputs": [
    {
     "data": {
      "text/plain": [
       "0.7333333333333333"
      ]
     },
     "execution_count": 13,
     "metadata": {},
     "output_type": "execute_result"
    }
   ],
   "source": [
    "rs_lr.score(X_test, y_test)"
   ]
  },
  {
   "cell_type": "code",
   "execution_count": 14,
   "id": "412bfaa0",
   "metadata": {
    "execution": {
     "iopub.execute_input": "2022-11-11T14:42:05.260992Z",
     "iopub.status.busy": "2022-11-11T14:42:05.260610Z",
     "iopub.status.idle": "2022-11-11T14:42:05.271331Z",
     "shell.execute_reply": "2022-11-11T14:42:05.270206Z"
    },
    "papermill": {
     "duration": 0.022595,
     "end_time": "2022-11-11T14:42:05.274097",
     "exception": false,
     "start_time": "2022-11-11T14:42:05.251502",
     "status": "completed"
    },
    "tags": []
   },
   "outputs": [],
   "source": [
    "# Setup our KNN model with best params and make some predictions\n",
    "knn_tuned = KNeighborsClassifier(n_neighbors = 10)\n",
    "\n",
    "knn_tuned.fit(X_train_std, y_train)\n",
    "y_preds = knn_tuned.predict(X_test_std);"
   ]
  },
  {
   "cell_type": "code",
   "execution_count": 15,
   "id": "f0a103ea",
   "metadata": {
    "execution": {
     "iopub.execute_input": "2022-11-11T14:42:05.291502Z",
     "iopub.status.busy": "2022-11-11T14:42:05.291112Z",
     "iopub.status.idle": "2022-11-11T14:42:05.541237Z",
     "shell.execute_reply": "2022-11-11T14:42:05.539938Z"
    },
    "papermill": {
     "duration": 0.261863,
     "end_time": "2022-11-11T14:42:05.543817",
     "exception": false,
     "start_time": "2022-11-11T14:42:05.281954",
     "status": "completed"
    },
    "tags": []
   },
   "outputs": [
    {
     "name": "stderr",
     "output_type": "stream",
     "text": [
      "/opt/conda/lib/python3.7/site-packages/sklearn/utils/deprecation.py:87: FutureWarning: Function plot_roc_curve is deprecated; Function :func:`plot_roc_curve` is deprecated in 1.0 and will be removed in 1.2. Use one of the class methods: :meth:`sklearn.metric.RocCurveDisplay.from_predictions` or :meth:`sklearn.metric.RocCurveDisplay.from_estimator`.\n",
      "  warnings.warn(msg, category=FutureWarning)\n"
     ]
    },
    {
     "data": {
      "text/plain": [
       "<sklearn.metrics._plot.roc_curve.RocCurveDisplay at 0x7f7c20d30a50>"
      ]
     },
     "execution_count": 15,
     "metadata": {},
     "output_type": "execute_result"
    },
    {
     "data": {
      "image/png": "[encoded data removed]",
      "text/plain": [
       "<Figure size 432x288 with 1 Axes>"
      ]
     },
     "metadata": {
      "needs_background": "light"
     },
     "output_type": "display_data"
    }
   ],
   "source": [
    "# Plotting ROC curve and calculate AUC\n",
    "plot_roc_curve(knn_tuned, X_test_std, y_test)"
   ]
  },
  {
   "cell_type": "code",
   "execution_count": 16,
   "id": "7201eaf7",
   "metadata": {
    "execution": {
     "iopub.execute_input": "2022-11-11T14:42:05.562847Z",
     "iopub.status.busy": "2022-11-11T14:42:05.562441Z",
     "iopub.status.idle": "2022-11-11T14:42:05.570398Z",
     "shell.execute_reply": "2022-11-11T14:42:05.569425Z"
    },
    "papermill": {
     "duration": 0.02053,
     "end_time": "2022-11-11T14:42:05.572882",
     "exception": false,
     "start_time": "2022-11-11T14:42:05.552352",
     "status": "completed"
    },
    "tags": []
   },
   "outputs": [
    {
     "data": {
      "text/plain": [
       "array([[26,  7],\n",
       "       [ 6, 21]])"
      ]
     },
     "execution_count": 16,
     "metadata": {},
     "output_type": "execute_result"
    }
   ],
   "source": [
    "# Print Confusion Matrix\n",
    "confusion_matrix(y_preds, y_test)"
   ]
  },
  {
   "cell_type": "code",
   "execution_count": 17,
   "id": "81b74e5b",
   "metadata": {
    "execution": {
     "iopub.execute_input": "2022-11-11T14:42:05.592900Z",
     "iopub.status.busy": "2022-11-11T14:42:05.592527Z",
     "iopub.status.idle": "2022-11-11T14:42:05.719956Z",
     "shell.execute_reply": "2022-11-11T14:42:05.718336Z"
    },
    "papermill": {
     "duration": 0.140885,
     "end_time": "2022-11-11T14:42:05.722465",
     "exception": false,
     "start_time": "2022-11-11T14:42:05.581580",
     "status": "completed"
    },
    "tags": []
   },
   "outputs": [
    {
     "data": {
      "image/png": "[encoded data removed]",
      "text/plain": [
       "<Figure size 216x216 with 1 Axes>"
      ]
     },
     "metadata": {},
     "output_type": "display_data"
    }
   ],
   "source": [
    "# Visualize confusion matrix with sns Heatmap\n",
    "sns.set(font_scale = 1.5)\n",
    "\n",
    "# Define a function to plot our confusion matrix \n",
    "def plot_conf_mat(y_test, y_preds):\n",
    "    \"\"\"\n",
    "    Plots a confusion matrix using Seaborn's heatmap\n",
    "    \"\"\"\n",
    "    fig, ax = plt.subplots(figsize = (3, 3))\n",
    "    ax = sns.heatmap(confusion_matrix(y_test, y_preds),\n",
    "                     annot = True,\n",
    "                     cbar = False)\n",
    "    plt.xlabel(\"True label\")\n",
    "    plt.ylabel(\"Predicted label\")\n",
    "    \n",
    "plot_conf_mat(y_test, y_preds)"
   ]
  },
  {
   "cell_type": "code",
   "execution_count": 18,
   "id": "68f7d6d3",
   "metadata": {
    "execution": {
     "iopub.execute_input": "2022-11-11T14:42:05.756457Z",
     "iopub.status.busy": "2022-11-11T14:42:05.754548Z",
     "iopub.status.idle": "2022-11-11T14:42:05.766519Z",
     "shell.execute_reply": "2022-11-11T14:42:05.764913Z"
    },
    "papermill": {
     "duration": 0.025921,
     "end_time": "2022-11-11T14:42:05.769475",
     "exception": false,
     "start_time": "2022-11-11T14:42:05.743554",
     "status": "completed"
    },
    "tags": []
   },
   "outputs": [
    {
     "name": "stdout",
     "output_type": "stream",
     "text": [
      "              precision    recall  f1-score   support\n",
      "\n",
      "           0       0.79      0.81      0.80        32\n",
      "           1       0.78      0.75      0.76        28\n",
      "\n",
      "    accuracy                           0.78        60\n",
      "   macro avg       0.78      0.78      0.78        60\n",
      "weighted avg       0.78      0.78      0.78        60\n",
      "\n"
     ]
    }
   ],
   "source": [
    "# Print classification report\n",
    "print(classification_report(y_test, y_preds))"
   ]
  },
  {
   "cell_type": "code",
   "execution_count": null,
   "id": "d61bd38a",
   "metadata": {
    "papermill": {
     "duration": 0.008591,
     "end_time": "2022-11-11T14:42:05.787034",
     "exception": false,
     "start_time": "2022-11-11T14:42:05.778443",
     "status": "completed"
    },
    "tags": []
   },
   "outputs": [],
   "source": []
  }
 ],
 "metadata": {
  "kernelspec": {
   "display_name": "Python 3",
   "language": "python",
   "name": "python3"
  },
  "language_info": {
   "codemirror_mode": {
    "name": "ipython",
    "version": 3
   },
   "file_extension": ".py",
   "mimetype": "text/x-python",
   "name": "python",
   "nbconvert_exporter": "python",
   "pygments_lexer": "ipython3",
   "version": "3.7.12"
  },
  "papermill": {
   "default_parameters": {},
   "duration": 31.673143,
   "end_time": "2022-11-11T14:42:08.417475",
   "environment_variables": {},
   "exception": null,
   "input_path": "__notebook__.ipynb",
   "output_path": "__notebook__.ipynb",
   "parameters": {},
   "start_time": "2022-11-11T14:41:36.744332",
   "version": "2.3.4"
  }
 },
 "nbformat": 4,
 "nbformat_minor": 5
}
