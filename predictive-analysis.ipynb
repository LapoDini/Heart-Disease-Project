{
 "cells": [
  {
   "cell_type": "code",
   "execution_count": 1,
   "id": "b2120c42",
   "metadata": {
    "_cell_guid": "b1076dfc-b9ad-4769-8c92-a6c4dae69d19",
    "_uuid": "8f2839f25d086af736a60e9eeb907d3b93b6e0e5",
    "execution": {
     "iopub.execute_input": "2022-11-11T13:25:09.496784Z",
     "iopub.status.busy": "2022-11-11T13:25:09.495752Z",
     "iopub.status.idle": "2022-11-11T13:25:10.973746Z",
     "shell.execute_reply": "2022-11-11T13:25:10.972600Z"
    },
    "papermill": {
     "duration": 1.490153,
     "end_time": "2022-11-11T13:25:10.976988",
     "exception": false,
     "start_time": "2022-11-11T13:25:09.486835",
     "status": "completed"
    },
    "tags": []
   },
   "outputs": [],
   "source": [
    "# Import all the tools we need\n",
    "\n",
    "# Regular EDA (exploratory data analysis) and plotting libraries\n",
    "import numpy as np\n",
    "import pandas as pd\n",
    "import matplotlib.pyplot as plt\n",
    "import seaborn as sns\n",
    "\n",
    "# We want our plots to appear inside the notebook\n",
    "%matplotlib inline \n",
    "\n",
    "# Models from Sckit-Learn\n",
    "from sklearn.linear_model import LogisticRegression\n",
    "from sklearn.neighbors import KNeighborsClassifier\n",
    "from sklearn.ensemble import RandomForestClassifier\n",
    "\n",
    "# Model Evaluations\n",
    "from sklearn.model_selection import train_test_split, cross_val_score\n",
    "from sklearn.model_selection import RandomizedSearchCV, GridSearchCV\n",
    "from sklearn.metrics import confusion_matrix, classification_report\n",
    "from sklearn.metrics import precision_score, recall_score, f1_score\n",
    "from sklearn.metrics import plot_roc_curve"
   ]
  },
  {
   "cell_type": "code",
   "execution_count": 2,
   "id": "6794f162",
   "metadata": {
    "execution": {
     "iopub.execute_input": "2022-11-11T13:25:10.990729Z",
     "iopub.status.busy": "2022-11-11T13:25:10.989574Z",
     "iopub.status.idle": "2022-11-11T13:25:11.022468Z",
     "shell.execute_reply": "2022-11-11T13:25:11.021131Z"
    },
    "papermill": {
     "duration": 0.042886,
     "end_time": "2022-11-11T13:25:11.025542",
     "exception": false,
     "start_time": "2022-11-11T13:25:10.982656",
     "status": "completed"
    },
    "tags": []
   },
   "outputs": [
    {
     "data": {
      "text/plain": [
       "(297, 14)"
      ]
     },
     "execution_count": 2,
     "metadata": {},
     "output_type": "execute_result"
    }
   ],
   "source": [
    "df = pd.read_csv(\"../input/heart-disease-cleveland-uci/heart_cleveland_upload.csv\")\n",
    "df.shape #(rows, columns)"
   ]
  },
  {
   "cell_type": "markdown",
   "id": "64d903d3",
   "metadata": {
    "papermill": {
     "duration": 0.006666,
     "end_time": "2022-11-11T13:25:11.039545",
     "exception": false,
     "start_time": "2022-11-11T13:25:11.032879",
     "status": "completed"
    },
    "tags": []
   },
   "source": [
    "## 5: Modeling\n",
    "​\n",
    "We have done some EDA on data. We have found some correlations but let's see if we can refine this.\n",
    "​\n",
    "We can do a Data Driven EDA, modeling a machine to find patterns between the data.\n",
    "​\n",
    "This is a **classification** problem with only two classes (0 = No disease, 1 = Disease).\n",
    "​\n",
    "We are going to try some different models from `Scikit-Learn` library, follwing this model map:\n",
    "* https://scikit-learn.org/stable/tutorial/machine_learning_map/index.html"
   ]
  },
  {
   "cell_type": "code",
   "execution_count": 3,
   "id": "66231735",
   "metadata": {
    "execution": {
     "iopub.execute_input": "2022-11-11T13:25:11.056511Z",
     "iopub.status.busy": "2022-11-11T13:25:11.055784Z",
     "iopub.status.idle": "2022-11-11T13:25:11.078442Z",
     "shell.execute_reply": "2022-11-11T13:25:11.077361Z"
    },
    "papermill": {
     "duration": 0.034009,
     "end_time": "2022-11-11T13:25:11.080939",
     "exception": false,
     "start_time": "2022-11-11T13:25:11.046930",
     "status": "completed"
    },
    "tags": []
   },
   "outputs": [],
   "source": [
    "# Creating X and y\n",
    "X = df.drop(\"condition\", axis = 1)\n",
    "y = df[\"condition\"]\n",
    "\n",
    "# Splitting the data in train and test set\n",
    "X_train, X_test, y_train, y_test = train_test_split(X, y, test_size = 0.2)"
   ]
  },
  {
   "cell_type": "code",
   "execution_count": 4,
   "id": "8dca665b",
   "metadata": {
    "execution": {
     "iopub.execute_input": "2022-11-11T13:25:11.094726Z",
     "iopub.status.busy": "2022-11-11T13:25:11.093940Z",
     "iopub.status.idle": "2022-11-11T13:25:11.106386Z",
     "shell.execute_reply": "2022-11-11T13:25:11.105230Z"
    },
    "papermill": {
     "duration": 0.022193,
     "end_time": "2022-11-11T13:25:11.108890",
     "exception": false,
     "start_time": "2022-11-11T13:25:11.086697",
     "status": "completed"
    },
    "tags": []
   },
   "outputs": [],
   "source": [
    "from sklearn.preprocessing import StandardScaler\n",
    "sclr = StandardScaler()\n",
    "\n",
    "X_train_std = sclr.fit_transform(X_train)\n",
    "X_test_std = sclr.transform(X_test)"
   ]
  },
  {
   "cell_type": "code",
   "execution_count": 5,
   "id": "e84ea2b1",
   "metadata": {
    "execution": {
     "iopub.execute_input": "2022-11-11T13:25:11.123158Z",
     "iopub.status.busy": "2022-11-11T13:25:11.121966Z",
     "iopub.status.idle": "2022-11-11T13:25:11.132706Z",
     "shell.execute_reply": "2022-11-11T13:25:11.131391Z"
    },
    "papermill": {
     "duration": 0.020923,
     "end_time": "2022-11-11T13:25:11.135405",
     "exception": false,
     "start_time": "2022-11-11T13:25:11.114482",
     "status": "completed"
    },
    "tags": []
   },
   "outputs": [],
   "source": [
    "models = {\"Logistic Regression\": LogisticRegression(),\n",
    "          \"Random Forest Classifier\": RandomForestClassifier(),\n",
    "          \"KNN\": KNeighborsClassifier()}\n",
    "\n",
    "# Define a function to fit and score our models\n",
    "def fit_and_score(models, X_train, X_test, y_train, y_test):\n",
    "    \"\"\"\n",
    "    Fits and evaluates given machine learning models.\n",
    "    models: a dict of different Scikit-Learn machine learning models\n",
    "    X_train : training data (no labels)\n",
    "    X_test : testing data (no labels) \n",
    "    y_train : training labels\n",
    "    y_test : test labels\n",
    "    \"\"\"\n",
    "    # Setup random seed\n",
    "    np.random.seed(42)\n",
    "    \n",
    "    # Setup an empty dictionary to record scores \n",
    "    model_scores = {}\n",
    "    \n",
    "    # Iterating over models\n",
    "    for name, model in models.items():\n",
    "        # Fit the model\n",
    "        model.fit(X_train, y_train)\n",
    "        # Scoring the model and update model_scores\n",
    "        model_scores[name] = model.score(X_test, y_test)\n",
    "    \n",
    "    return model_scores"
   ]
  },
  {
   "cell_type": "code",
   "execution_count": 6,
   "id": "f762ed77",
   "metadata": {
    "execution": {
     "iopub.execute_input": "2022-11-11T13:25:11.148122Z",
     "iopub.status.busy": "2022-11-11T13:25:11.147761Z",
     "iopub.status.idle": "2022-11-11T13:25:11.335265Z",
     "shell.execute_reply": "2022-11-11T13:25:11.334115Z"
    },
    "papermill": {
     "duration": 0.196615,
     "end_time": "2022-11-11T13:25:11.337634",
     "exception": false,
     "start_time": "2022-11-11T13:25:11.141019",
     "status": "completed"
    },
    "tags": []
   },
   "outputs": [
    {
     "data": {
      "text/plain": [
       "{'Logistic Regression': 0.8333333333333334,\n",
       " 'Random Forest Classifier': 0.8333333333333334,\n",
       " 'KNN': 0.8166666666666667}"
      ]
     },
     "execution_count": 6,
     "metadata": {},
     "output_type": "execute_result"
    }
   ],
   "source": [
    "model_scores = fit_and_score(models,\n",
    "                             X_train = X_train_std,\n",
    "                             X_test = X_test_std,\n",
    "                             y_train = y_train,\n",
    "                             y_test = y_test)\n",
    "\n",
    "model_scores"
   ]
  },
  {
   "cell_type": "code",
   "execution_count": 7,
   "id": "7a6c4f87",
   "metadata": {
    "execution": {
     "iopub.execute_input": "2022-11-11T13:25:11.351104Z",
     "iopub.status.busy": "2022-11-11T13:25:11.350708Z",
     "iopub.status.idle": "2022-11-11T13:25:11.643683Z",
     "shell.execute_reply": "2022-11-11T13:25:11.642626Z"
    },
    "papermill": {
     "duration": 0.302907,
     "end_time": "2022-11-11T13:25:11.646312",
     "exception": false,
     "start_time": "2022-11-11T13:25:11.343405",
     "status": "completed"
    },
    "tags": []
   },
   "outputs": [
    {
     "data": {
      "image/png": "[encoded data removed]",
      "text/plain": [
       "<Figure size 432x288 with 1 Axes>"
      ]
     },
     "metadata": {
      "needs_background": "light"
     },
     "output_type": "display_data"
    }
   ],
   "source": [
    "model_compare = pd.DataFrame(model_scores, index = [\"accuracy\"])\n",
    "model_compare.T.plot.bar();"
   ]
  },
  {
   "cell_type": "code",
   "execution_count": 8,
   "id": "1680348a",
   "metadata": {
    "execution": {
     "iopub.execute_input": "2022-11-11T13:25:11.662045Z",
     "iopub.status.busy": "2022-11-11T13:25:11.661615Z",
     "iopub.status.idle": "2022-11-11T13:25:11.908159Z",
     "shell.execute_reply": "2022-11-11T13:25:11.907062Z"
    },
    "papermill": {
     "duration": 0.258447,
     "end_time": "2022-11-11T13:25:11.911091",
     "exception": false,
     "start_time": "2022-11-11T13:25:11.652644",
     "status": "completed"
    },
    "tags": []
   },
   "outputs": [],
   "source": [
    "train_scores = []\n",
    "test_scores = []\n",
    "\n",
    "n_neighbors = range(1, 21)\n",
    "\n",
    "# Setup KNN\n",
    "knn = KNeighborsClassifier()\n",
    "\n",
    "for i in n_neighbors:\n",
    "    knn.set_params(n_neighbors = i)\n",
    "    \n",
    "    # Fit the model\n",
    "    knn.fit(X_train_std, y_train)\n",
    "    \n",
    "    # Score the model\n",
    "    train_scores.append(knn.score(X_train_std, y_train))\n",
    "    test_scores.append(knn.score(X_test_std,y_test))"
   ]
  },
  {
   "cell_type": "code",
   "execution_count": 9,
   "id": "99877894",
   "metadata": {
    "execution": {
     "iopub.execute_input": "2022-11-11T13:25:11.924719Z",
     "iopub.status.busy": "2022-11-11T13:25:11.924291Z",
     "iopub.status.idle": "2022-11-11T13:25:12.219807Z",
     "shell.execute_reply": "2022-11-11T13:25:12.218863Z"
    },
    "papermill": {
     "duration": 0.30526,
     "end_time": "2022-11-11T13:25:12.222349",
     "exception": false,
     "start_time": "2022-11-11T13:25:11.917089",
     "status": "completed"
    },
    "tags": []
   },
   "outputs": [
    {
     "name": "stdout",
     "output_type": "stream",
     "text": [
      "The best accuracy score with KNN, after tuning, is: 85.00%\n",
      "with the optimal number of neighbors: 7\n"
     ]
    },
    {
     "data": {
      "image/png": "[encoded data removed]",
      "text/plain": [
       "<Figure size 432x288 with 1 Axes>"
      ]
     },
     "metadata": {
      "needs_background": "light"
     },
     "output_type": "display_data"
    }
   ],
   "source": [
    "plt.plot(n_neighbors, train_scores, label = \" Train scores\")\n",
    "plt.plot(n_neighbors, test_scores, label = \"Test scores\")\n",
    "plt.xticks(range(1, 21, 1))\n",
    "plt.xlabel(\"Number of neighbours\")\n",
    "plt.ylabel(\"Accuracy\")\n",
    "plt.legend([\"Train set scores\", \"Test set scores\"]);\n",
    "\n",
    "print(f\"The best accuracy score with KNN, after tuning, is: {max(test_scores)*100:.2f}%\")\n",
    "print(f\"with the optimal number of neighbors: {test_scores.index(max(test_scores))+1}\")"
   ]
  },
  {
   "cell_type": "code",
   "execution_count": 10,
   "id": "ae722724",
   "metadata": {
    "execution": {
     "iopub.execute_input": "2022-11-11T13:25:12.237812Z",
     "iopub.status.busy": "2022-11-11T13:25:12.237381Z",
     "iopub.status.idle": "2022-11-11T13:25:28.094465Z",
     "shell.execute_reply": "2022-11-11T13:25:28.093064Z"
    },
    "papermill": {
     "duration": 15.86831,
     "end_time": "2022-11-11T13:25:28.097421",
     "exception": false,
     "start_time": "2022-11-11T13:25:12.229111",
     "status": "completed"
    },
    "tags": []
   },
   "outputs": [
    {
     "name": "stdout",
     "output_type": "stream",
     "text": [
      "Fitting 5 folds for each of 10 candidates, totalling 50 fits\n"
     ]
    },
    {
     "data": {
      "text/plain": [
       "RandomizedSearchCV(cv=5, estimator=RandomForestClassifier(random_state=42),\n",
       "                   n_jobs=-1,\n",
       "                   param_distributions={'bootstrap': [True, False],\n",
       "                                        'max_depth': range(10, 100, 10),\n",
       "                                        'min_samples_leaf': [1, 2, 4],\n",
       "                                        'min_samples_split': [2, 5, 10],\n",
       "                                        'n_estimators': range(10, 1000, 10)},\n",
       "                   scoring='accuracy', verbose=True)"
      ]
     },
     "execution_count": 10,
     "metadata": {},
     "output_type": "execute_result"
    }
   ],
   "source": [
    "n_estimators = range(10, 1000, 10)\n",
    "max_depth = range(10, 100, 10)\n",
    "params ={\"n_estimators\": n_estimators,\n",
    "         \"max_depth\": max_depth ,\n",
    "         \"min_samples_split\": [2, 5, 10],\n",
    "         \"min_samples_leaf\": [1, 2, 4],\n",
    "         \"bootstrap\": [True, False]}\n",
    "rf = RandomForestClassifier(random_state = 42)\n",
    "\n",
    "#Set up RandomizesSearchCV\n",
    "rs_rf = RandomizedSearchCV(estimator = rf,\n",
    "                           param_distributions = params, \n",
    "                           scoring = \"accuracy\",\n",
    "                           n_iter = 10,\n",
    "                           n_jobs = -1,\n",
    "                           cv = 5,\n",
    "                           verbose = True)\n",
    "\n",
    "# Fit the model with RSCV\n",
    "rs_rf.fit(X_train, y_train)"
   ]
  },
  {
   "cell_type": "code",
   "execution_count": 11,
   "id": "cb10ccd0",
   "metadata": {
    "execution": {
     "iopub.execute_input": "2022-11-11T13:25:28.113873Z",
     "iopub.status.busy": "2022-11-11T13:25:28.113380Z",
     "iopub.status.idle": "2022-11-11T13:25:28.186825Z",
     "shell.execute_reply": "2022-11-11T13:25:28.185702Z"
    },
    "papermill": {
     "duration": 0.084833,
     "end_time": "2022-11-11T13:25:28.189198",
     "exception": false,
     "start_time": "2022-11-11T13:25:28.104365",
     "status": "completed"
    },
    "tags": []
   },
   "outputs": [
    {
     "data": {
      "text/plain": [
       "(0.8333333333333334,\n",
       " {'n_estimators': 530,\n",
       "  'min_samples_split': 2,\n",
       "  'min_samples_leaf': 2,\n",
       "  'max_depth': 80,\n",
       "  'bootstrap': False})"
      ]
     },
     "execution_count": 11,
     "metadata": {},
     "output_type": "execute_result"
    }
   ],
   "source": [
    "rs_rf.score(X_test, y_test), rs_rf.best_params_"
   ]
  },
  {
   "cell_type": "code",
   "execution_count": 12,
   "id": "f9e75ed1",
   "metadata": {
    "execution": {
     "iopub.execute_input": "2022-11-11T13:25:28.204431Z",
     "iopub.status.busy": "2022-11-11T13:25:28.203867Z",
     "iopub.status.idle": "2022-11-11T13:25:28.385631Z",
     "shell.execute_reply": "2022-11-11T13:25:28.384497Z"
    },
    "papermill": {
     "duration": 0.192159,
     "end_time": "2022-11-11T13:25:28.388137",
     "exception": false,
     "start_time": "2022-11-11T13:25:28.195978",
     "status": "completed"
    },
    "tags": []
   },
   "outputs": [
    {
     "name": "stdout",
     "output_type": "stream",
     "text": [
      "Fitting 5 folds for each of 5 candidates, totalling 25 fits\n"
     ]
    },
    {
     "data": {
      "text/plain": [
       "RandomizedSearchCV(cv=5,\n",
       "                   estimator=Pipeline(steps=[('sclr', StandardScaler()),\n",
       "                                             ('lr', LogisticRegression())]),\n",
       "                   n_iter=5, n_jobs=-1,\n",
       "                   param_distributions={'lr__C': [100, 10, 1, 0.1, 0.01],\n",
       "                                        'lr__penalty': ['l2'],\n",
       "                                        'lr__solver': ['liblinear']},\n",
       "                   scoring='accuracy', verbose=True)"
      ]
     },
     "execution_count": 12,
     "metadata": {},
     "output_type": "execute_result"
    }
   ],
   "source": [
    "# Creating a PipeLine to avoid data leakage from Standardization\n",
    "from sklearn.pipeline import Pipeline\n",
    "pipe = Pipeline([(\"sclr\", StandardScaler()), # StandardScaler \n",
    "                 (\"lr\", LogisticRegression()) #RandomForestClassifier\n",
    "                ])\n",
    "\n",
    "# Creating a dict of hyperparameters to tune\n",
    "\n",
    "params ={\"lr__C\": [100, 10, 1, 0.1, 0.01],\n",
    "         \"lr__solver\": [\"liblinear\"],\n",
    "         \"lr__penalty\": [\"l2\"]\n",
    "        }\n",
    "\n",
    "#Set up RandomizesSearchCV\n",
    "rs_lr = RandomizedSearchCV(estimator = pipe,\n",
    "                           param_distributions = params, \n",
    "                           scoring = \"accuracy\",\n",
    "                           n_iter = 5,\n",
    "                           n_jobs = -1,\n",
    "                           cv = 5,\n",
    "                           verbose = True)\n",
    "\n",
    "# Fit the model with RSCV\n",
    "rs_lr.fit(X_train, y_train)"
   ]
  },
  {
   "cell_type": "code",
   "execution_count": 13,
   "id": "87f72d5b",
   "metadata": {
    "execution": {
     "iopub.execute_input": "2022-11-11T13:25:28.404756Z",
     "iopub.status.busy": "2022-11-11T13:25:28.403700Z",
     "iopub.status.idle": "2022-11-11T13:25:28.413055Z",
     "shell.execute_reply": "2022-11-11T13:25:28.412061Z"
    },
    "papermill": {
     "duration": 0.019914,
     "end_time": "2022-11-11T13:25:28.415271",
     "exception": false,
     "start_time": "2022-11-11T13:25:28.395357",
     "status": "completed"
    },
    "tags": []
   },
   "outputs": [
    {
     "data": {
      "text/plain": [
       "0.9"
      ]
     },
     "execution_count": 13,
     "metadata": {},
     "output_type": "execute_result"
    }
   ],
   "source": [
    "rs_lr.score(X_test, y_test)"
   ]
  },
  {
   "cell_type": "code",
   "execution_count": 14,
   "id": "d91f9d7f",
   "metadata": {
    "execution": {
     "iopub.execute_input": "2022-11-11T13:25:28.431530Z",
     "iopub.status.busy": "2022-11-11T13:25:28.431132Z",
     "iopub.status.idle": "2022-11-11T13:25:28.442189Z",
     "shell.execute_reply": "2022-11-11T13:25:28.441026Z"
    },
    "papermill": {
     "duration": 0.022487,
     "end_time": "2022-11-11T13:25:28.444984",
     "exception": false,
     "start_time": "2022-11-11T13:25:28.422497",
     "status": "completed"
    },
    "tags": []
   },
   "outputs": [],
   "source": [
    "# Setup our KNN model with best params and make some predictions\n",
    "knn_tuned = KNeighborsClassifier(n_neighbors = 11)\n",
    "\n",
    "knn_tuned.fit(X_train_std, y_train)\n",
    "y_preds = knn_tuned.predict(X_test_std);"
   ]
  },
  {
   "cell_type": "code",
   "execution_count": 15,
   "id": "89749680",
   "metadata": {
    "execution": {
     "iopub.execute_input": "2022-11-11T13:25:28.461812Z",
     "iopub.status.busy": "2022-11-11T13:25:28.461364Z",
     "iopub.status.idle": "2022-11-11T13:25:28.710551Z",
     "shell.execute_reply": "2022-11-11T13:25:28.709250Z"
    },
    "papermill": {
     "duration": 0.26079,
     "end_time": "2022-11-11T13:25:28.713361",
     "exception": false,
     "start_time": "2022-11-11T13:25:28.452571",
     "status": "completed"
    },
    "tags": []
   },
   "outputs": [
    {
     "name": "stderr",
     "output_type": "stream",
     "text": [
      "/opt/conda/lib/python3.7/site-packages/sklearn/utils/deprecation.py:87: FutureWarning: Function plot_roc_curve is deprecated; Function :func:`plot_roc_curve` is deprecated in 1.0 and will be removed in 1.2. Use one of the class methods: :meth:`sklearn.metric.RocCurveDisplay.from_predictions` or :meth:`sklearn.metric.RocCurveDisplay.from_estimator`.\n",
      "  warnings.warn(msg, category=FutureWarning)\n"
     ]
    },
    {
     "data": {
      "text/plain": [
       "<sklearn.metrics._plot.roc_curve.RocCurveDisplay at 0x7f54f58d8bd0>"
      ]
     },
     "execution_count": 15,
     "metadata": {},
     "output_type": "execute_result"
    },
    {
     "data": {
      "image/png": "[encoded data removed]",
      "text/plain": [
       "<Figure size 432x288 with 1 Axes>"
      ]
     },
     "metadata": {
      "needs_background": "light"
     },
     "output_type": "display_data"
    }
   ],
   "source": [
    "# Plotting ROC curve and calculate AUC\n",
    "plot_roc_curve(knn_tuned, X_test_std, y_test)"
   ]
  },
  {
   "cell_type": "code",
   "execution_count": 16,
   "id": "fd51a034",
   "metadata": {
    "execution": {
     "iopub.execute_input": "2022-11-11T13:25:28.731603Z",
     "iopub.status.busy": "2022-11-11T13:25:28.731155Z",
     "iopub.status.idle": "2022-11-11T13:25:28.740457Z",
     "shell.execute_reply": "2022-11-11T13:25:28.738962Z"
    },
    "papermill": {
     "duration": 0.021364,
     "end_time": "2022-11-11T13:25:28.742985",
     "exception": false,
     "start_time": "2022-11-11T13:25:28.721621",
     "status": "completed"
    },
    "tags": []
   },
   "outputs": [
    {
     "data": {
      "text/plain": [
       "array([[30,  8],\n",
       "       [ 2, 20]])"
      ]
     },
     "execution_count": 16,
     "metadata": {},
     "output_type": "execute_result"
    }
   ],
   "source": [
    "# Print Confusion Matrix\n",
    "confusion_matrix(y_preds, y_test)"
   ]
  },
  {
   "cell_type": "code",
   "execution_count": 17,
   "id": "129da2ba",
   "metadata": {
    "execution": {
     "iopub.execute_input": "2022-11-11T13:25:28.761173Z",
     "iopub.status.busy": "2022-11-11T13:25:28.760364Z",
     "iopub.status.idle": "2022-11-11T13:25:28.933031Z",
     "shell.execute_reply": "2022-11-11T13:25:28.932025Z"
    },
    "papermill": {
     "duration": 0.184575,
     "end_time": "2022-11-11T13:25:28.935316",
     "exception": false,
     "start_time": "2022-11-11T13:25:28.750741",
     "status": "completed"
    },
    "tags": []
   },
   "outputs": [
    {
     "data": {
      "image/png": "[encoded data removed]",
      "text/plain": [
       "<Figure size 216x216 with 1 Axes>"
      ]
     },
     "metadata": {},
     "output_type": "display_data"
    }
   ],
   "source": [
    "# Visualize confusion matrix with sns Heatmap\n",
    "sns.set(font_scale = 1.5)\n",
    "\n",
    "# Define a function to plot our confusion matrix \n",
    "def plot_conf_mat(y_test, y_preds):\n",
    "    \"\"\"\n",
    "    Plots a confusion matrix using Seaborn's heatmap\n",
    "    \"\"\"\n",
    "    fig, ax = plt.subplots(figsize = (3, 3))\n",
    "    ax = sns.heatmap(confusion_matrix(y_test, y_preds),\n",
    "                     annot = True,\n",
    "                     cbar = False)\n",
    "    plt.xlabel(\"True label\")\n",
    "    plt.ylabel(\"Predicted label\")\n",
    "    \n",
    "plot_conf_mat(y_test, y_preds)"
   ]
  },
  {
   "cell_type": "code",
   "execution_count": 18,
   "id": "51ccdeb3",
   "metadata": {
    "execution": {
     "iopub.execute_input": "2022-11-11T13:25:28.953355Z",
     "iopub.status.busy": "2022-11-11T13:25:28.952595Z",
     "iopub.status.idle": "2022-11-11T13:25:28.961528Z",
     "shell.execute_reply": "2022-11-11T13:25:28.960724Z"
    },
    "papermill": {
     "duration": 0.020677,
     "end_time": "2022-11-11T13:25:28.963930",
     "exception": false,
     "start_time": "2022-11-11T13:25:28.943253",
     "status": "completed"
    },
    "tags": []
   },
   "outputs": [
    {
     "name": "stdout",
     "output_type": "stream",
     "text": [
      "              precision    recall  f1-score   support\n",
      "\n",
      "           0       0.79      0.94      0.86        32\n",
      "           1       0.91      0.71      0.80        28\n",
      "\n",
      "    accuracy                           0.83        60\n",
      "   macro avg       0.85      0.83      0.83        60\n",
      "weighted avg       0.85      0.83      0.83        60\n",
      "\n"
     ]
    }
   ],
   "source": [
    "# Print classification report\n",
    "print(classification_report(y_test, y_preds))"
   ]
  },
  {
   "cell_type": "code",
   "execution_count": null,
   "id": "1c467969",
   "metadata": {
    "papermill": {
     "duration": 0.007436,
     "end_time": "2022-11-11T13:25:28.979299",
     "exception": false,
     "start_time": "2022-11-11T13:25:28.971863",
     "status": "completed"
    },
    "tags": []
   },
   "outputs": [],
   "source": []
  }
 ],
 "metadata": {
  "kernelspec": {
   "display_name": "Python 3",
   "language": "python",
   "name": "python3"
  },
  "language_info": {
   "codemirror_mode": {
    "name": "ipython",
    "version": 3
   },
   "file_extension": ".py",
   "mimetype": "text/x-python",
   "name": "python",
   "nbconvert_exporter": "python",
   "pygments_lexer": "ipython3",
   "version": "3.7.12"
  },
  "papermill": {
   "default_parameters": {},
   "duration": 30.816002,
   "end_time": "2022-11-11T13:25:31.609353",
   "environment_variables": {},
   "exception": null,
   "input_path": "__notebook__.ipynb",
   "output_path": "__notebook__.ipynb",
   "parameters": {},
   "start_time": "2022-11-11T13:25:00.793351",
   "version": "2.3.4"
  }
 },
 "nbformat": 4,
 "nbformat_minor": 5
}
