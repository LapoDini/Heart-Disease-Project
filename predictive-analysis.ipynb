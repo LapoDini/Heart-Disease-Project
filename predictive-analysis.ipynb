{
 "cells": [
  {
   "cell_type": "code",
   "execution_count": 1,
   "id": "9690e808",
   "metadata": {
    "_cell_guid": "b1076dfc-b9ad-4769-8c92-a6c4dae69d19",
    "_uuid": "8f2839f25d086af736a60e9eeb907d3b93b6e0e5",
    "execution": {
     "iopub.execute_input": "2022-11-11T17:29:32.070054Z",
     "iopub.status.busy": "2022-11-11T17:29:32.069294Z",
     "iopub.status.idle": "2022-11-11T17:29:33.651854Z",
     "shell.execute_reply": "2022-11-11T17:29:33.650519Z"
    },
    "papermill": {
     "duration": 1.597527,
     "end_time": "2022-11-11T17:29:33.654790",
     "exception": false,
     "start_time": "2022-11-11T17:29:32.057263",
     "status": "completed"
    },
    "tags": []
   },
   "outputs": [],
   "source": [
    "# Import all the tools we need\n",
    "\n",
    "# Regular EDA (exploratory data analysis) and plotting libraries\n",
    "import numpy as np\n",
    "import pandas as pd\n",
    "import matplotlib.pyplot as plt\n",
    "import seaborn as sns\n",
    "\n",
    "# We want our plots to appear inside the notebook\n",
    "%matplotlib inline \n",
    "\n",
    "# Models from Sckit-Learn\n",
    "from sklearn.linear_model import LogisticRegression\n",
    "from sklearn.neighbors import KNeighborsClassifier\n",
    "from sklearn.tree import DecisionTreeClassifier\n",
    "\n",
    "# Model Evaluations\n",
    "from sklearn.model_selection import train_test_split, cross_val_score\n",
    "from sklearn.model_selection import RandomizedSearchCV, GridSearchCV\n",
    "from sklearn.metrics import confusion_matrix, classification_report\n",
    "from sklearn.metrics import precision_score, recall_score, f1_score\n",
    "from sklearn.metrics import plot_roc_curve"
   ]
  },
  {
   "cell_type": "code",
   "execution_count": 2,
   "id": "fa502da9",
   "metadata": {
    "execution": {
     "iopub.execute_input": "2022-11-11T17:29:33.672262Z",
     "iopub.status.busy": "2022-11-11T17:29:33.671828Z",
     "iopub.status.idle": "2022-11-11T17:29:33.700104Z",
     "shell.execute_reply": "2022-11-11T17:29:33.698942Z"
    },
    "papermill": {
     "duration": 0.040298,
     "end_time": "2022-11-11T17:29:33.702723",
     "exception": false,
     "start_time": "2022-11-11T17:29:33.662425",
     "status": "completed"
    },
    "tags": []
   },
   "outputs": [
    {
     "data": {
      "text/plain": [
       "(297, 14)"
      ]
     },
     "execution_count": 2,
     "metadata": {},
     "output_type": "execute_result"
    }
   ],
   "source": [
    "df = pd.read_csv(\"../input/heart-disease-cleveland-uci/heart_cleveland_upload.csv\")\n",
    "df.shape #(rows, columns)"
   ]
  },
  {
   "cell_type": "markdown",
   "id": "f41a1f5f",
   "metadata": {
    "papermill": {
     "duration": 0.00715,
     "end_time": "2022-11-11T17:29:33.717573",
     "exception": false,
     "start_time": "2022-11-11T17:29:33.710423",
     "status": "completed"
    },
    "tags": []
   },
   "source": [
    "# Predictive Analysis\n",
    "\n",
    "We now want to find what are the most important features in prediction of new conditions.\n",
    "​\n",
    "We have done some EDA on data. We have found some correlations but let's see if we can refine this.\n",
    "​\n",
    "We can do a Data Driven EDA, modeling a machine to find patterns between the data.\n",
    "​\n",
    "This is a **classification** problem with only two classes (0 = No disease, 1 = Disease).\n",
    "​\n",
    "We are going to try some different models from `Scikit-Learn` library, follwing this model map:\n",
    "* https://scikit-learn.org/stable/tutorial/machine_learning_map/index.html"
   ]
  },
  {
   "cell_type": "markdown",
   "id": "295efc54",
   "metadata": {
    "papermill": {
     "duration": 0.007014,
     "end_time": "2022-11-11T17:29:33.731889",
     "exception": false,
     "start_time": "2022-11-11T17:29:33.724875",
     "status": "completed"
    },
    "tags": []
   },
   "source": [
    "## Preprocessing the data\n",
    "\n",
    "We use `train_test_split()` from `Scikit-Learn` library to have our train and validation set.\n",
    "\n",
    "After that we normalize the data."
   ]
  },
  {
   "cell_type": "markdown",
   "id": "976211ff",
   "metadata": {
    "papermill": {
     "duration": 0.007303,
     "end_time": "2022-11-11T17:29:33.746446",
     "exception": false,
     "start_time": "2022-11-11T17:29:33.739143",
     "status": "completed"
    },
    "tags": []
   },
   "source": [
    "### Spilt the dataset\n",
    "\n",
    "Create our own Train and Validation set."
   ]
  },
  {
   "cell_type": "code",
   "execution_count": 3,
   "id": "4a1b6c30",
   "metadata": {
    "execution": {
     "iopub.execute_input": "2022-11-11T17:29:33.764593Z",
     "iopub.status.busy": "2022-11-11T17:29:33.764150Z",
     "iopub.status.idle": "2022-11-11T17:29:33.782059Z",
     "shell.execute_reply": "2022-11-11T17:29:33.780955Z"
    },
    "papermill": {
     "duration": 0.030564,
     "end_time": "2022-11-11T17:29:33.784457",
     "exception": false,
     "start_time": "2022-11-11T17:29:33.753893",
     "status": "completed"
    },
    "tags": []
   },
   "outputs": [],
   "source": [
    "# Creating X and y\n",
    "X = df.drop(\"condition\", axis = 1)\n",
    "y = df[\"condition\"]\n",
    "\n",
    "# Splitting the data in train and test set\n",
    "X_train, X_test, y_train, y_test = train_test_split(X, y, test_size = 0.25)"
   ]
  },
  {
   "cell_type": "markdown",
   "id": "c39c289e",
   "metadata": {
    "papermill": {
     "duration": 0.007333,
     "end_time": "2022-11-11T17:29:33.799344",
     "exception": false,
     "start_time": "2022-11-11T17:29:33.792011",
     "status": "completed"
    },
    "tags": []
   },
   "source": [
    "### Decision Tree Classifier\n",
    "\n",
    "We train and tune a `DecisionTreeClassifier()`: Due to the quality of the data set, a simpler model is better and less prone to overtifit.\n",
    "\n",
    "1. Get some baseline informations.\n",
    "2. Tune the model with `GridSearchCV()` to see if this improve the model."
   ]
  },
  {
   "cell_type": "code",
   "execution_count": 4,
   "id": "a19c4c87",
   "metadata": {
    "execution": {
     "iopub.execute_input": "2022-11-11T17:29:33.816816Z",
     "iopub.status.busy": "2022-11-11T17:29:33.815560Z",
     "iopub.status.idle": "2022-11-11T17:29:33.831860Z",
     "shell.execute_reply": "2022-11-11T17:29:33.830651Z"
    },
    "papermill": {
     "duration": 0.027822,
     "end_time": "2022-11-11T17:29:33.834666",
     "exception": false,
     "start_time": "2022-11-11T17:29:33.806844",
     "status": "completed"
    },
    "tags": []
   },
   "outputs": [
    {
     "data": {
      "text/plain": [
       "(1.0, 0.76)"
      ]
     },
     "execution_count": 4,
     "metadata": {},
     "output_type": "execute_result"
    }
   ],
   "source": [
    "tree = DecisionTreeClassifier()\n",
    "tree.fit(X_train, y_train)\n",
    "tree.score(X_train, y_train), tree.score(X_test, y_test)"
   ]
  },
  {
   "cell_type": "markdown",
   "id": "b2bebee5",
   "metadata": {
    "papermill": {
     "duration": 0.007336,
     "end_time": "2022-11-11T17:29:33.849637",
     "exception": false,
     "start_time": "2022-11-11T17:29:33.842301",
     "status": "completed"
    },
    "tags": []
   },
   "source": [
    "Baseline accuracy is quite low but maybe after an optimization we will be able to see some improvement."
   ]
  },
  {
   "cell_type": "code",
   "execution_count": 5,
   "id": "caf8d07f",
   "metadata": {
    "execution": {
     "iopub.execute_input": "2022-11-11T17:29:33.867363Z",
     "iopub.status.busy": "2022-11-11T17:29:33.866603Z",
     "iopub.status.idle": "2022-11-11T17:29:34.180430Z",
     "shell.execute_reply": "2022-11-11T17:29:34.179188Z"
    },
    "papermill": {
     "duration": 0.325732,
     "end_time": "2022-11-11T17:29:34.183132",
     "exception": false,
     "start_time": "2022-11-11T17:29:33.857400",
     "status": "completed"
    },
    "tags": []
   },
   "outputs": [
    {
     "data": {
      "text/plain": [
       "<AxesSubplot:>"
      ]
     },
     "execution_count": 5,
     "metadata": {},
     "output_type": "execute_result"
    },
    {
     "data": {
      "image/png": "[encoded data removed]",
      "text/plain": [
       "<Figure size 432x288 with 2 Axes>"
      ]
     },
     "metadata": {
      "needs_background": "light"
     },
     "output_type": "display_data"
    }
   ],
   "source": [
    "predictions = tree.predict(X_test)\n",
    "cm = confusion_matrix(y_test, predictions)\n",
    "\n",
    "sns.heatmap(data = cm,\n",
    "            annot = True,\n",
    "            square = True,\n",
    "            cmap = \"Blues\")"
   ]
  },
  {
   "cell_type": "markdown",
   "id": "e210ed96",
   "metadata": {
    "papermill": {
     "duration": 0.007614,
     "end_time": "2022-11-11T17:29:34.198748",
     "exception": false,
     "start_time": "2022-11-11T17:29:34.191134",
     "status": "completed"
    },
    "tags": []
   },
   "source": [
    "As we can see the model is prone to predict false negative and false positive."
   ]
  },
  {
   "cell_type": "markdown",
   "id": "713adf98",
   "metadata": {
    "papermill": {
     "duration": 0.007517,
     "end_time": "2022-11-11T17:29:34.213990",
     "exception": false,
     "start_time": "2022-11-11T17:29:34.206473",
     "status": "completed"
    },
    "tags": []
   },
   "source": [
    "#### Hyperparameter tuning\n",
    "We use `GridSearchCV()` to tune our model.  "
   ]
  },
  {
   "cell_type": "code",
   "execution_count": 6,
   "id": "45447a30",
   "metadata": {
    "execution": {
     "iopub.execute_input": "2022-11-11T17:29:34.231581Z",
     "iopub.status.busy": "2022-11-11T17:29:34.231189Z",
     "iopub.status.idle": "2022-11-11T17:29:40.708749Z",
     "shell.execute_reply": "2022-11-11T17:29:40.707744Z"
    },
    "papermill": {
     "duration": 6.488829,
     "end_time": "2022-11-11T17:29:40.710954",
     "exception": false,
     "start_time": "2022-11-11T17:29:34.222125",
     "status": "completed"
    },
    "tags": []
   },
   "outputs": [
    {
     "name": "stdout",
     "output_type": "stream",
     "text": [
      "Fitting 5 folds for each of 432 candidates, totalling 2160 fits\n"
     ]
    },
    {
     "data": {
      "text/plain": [
       "GridSearchCV(cv=5, estimator=DecisionTreeClassifier(), n_jobs=-1,\n",
       "             param_grid={'criterion': ['gini', 'entropy'],\n",
       "                         'max_depth': range(1, 10),\n",
       "                         'min_samples_leaf': range(2, 5),\n",
       "                         'min_samples_split': range(2, 10)},\n",
       "             verbose=1)"
      ]
     },
     "execution_count": 6,
     "metadata": {},
     "output_type": "execute_result"
    }
   ],
   "source": [
    "param_dict = {\"criterion\": [\"gini\", \"entropy\"],\n",
    "             \"max_depth\": range(1,10),\n",
    "             \"min_samples_split\": range(2, 10),\n",
    "             \"min_samples_leaf\": range(2,5)}\n",
    "tree_gs = GridSearchCV(tree, \n",
    "                      param_grid = param_dict,\n",
    "                      cv = 5,\n",
    "                      verbose = 1,\n",
    "                      n_jobs = -1)\n",
    "\n",
    "tree_gs.fit(X_train, y_train)"
   ]
  },
  {
   "cell_type": "code",
   "execution_count": 7,
   "id": "7407b58d",
   "metadata": {
    "execution": {
     "iopub.execute_input": "2022-11-11T17:29:40.730029Z",
     "iopub.status.busy": "2022-11-11T17:29:40.728799Z",
     "iopub.status.idle": "2022-11-11T17:29:40.738878Z",
     "shell.execute_reply": "2022-11-11T17:29:40.737951Z"
    },
    "papermill": {
     "duration": 0.021901,
     "end_time": "2022-11-11T17:29:40.740990",
     "exception": false,
     "start_time": "2022-11-11T17:29:40.719089",
     "status": "completed"
    },
    "tags": []
   },
   "outputs": [
    {
     "data": {
      "text/plain": [
       "(0.7333333333333333,\n",
       " {'criterion': 'gini',\n",
       "  'max_depth': 9,\n",
       "  'min_samples_leaf': 2,\n",
       "  'min_samples_split': 9})"
      ]
     },
     "execution_count": 7,
     "metadata": {},
     "output_type": "execute_result"
    }
   ],
   "source": [
    "tree_gs.score(X_test, y_test), tree_gs.best_params_"
   ]
  },
  {
   "cell_type": "code",
   "execution_count": 8,
   "id": "d1c8a2b3",
   "metadata": {
    "execution": {
     "iopub.execute_input": "2022-11-11T17:29:40.759610Z",
     "iopub.status.busy": "2022-11-11T17:29:40.758882Z",
     "iopub.status.idle": "2022-11-11T17:29:41.012589Z",
     "shell.execute_reply": "2022-11-11T17:29:41.011083Z"
    },
    "papermill": {
     "duration": 0.266027,
     "end_time": "2022-11-11T17:29:41.015243",
     "exception": false,
     "start_time": "2022-11-11T17:29:40.749216",
     "status": "completed"
    },
    "tags": []
   },
   "outputs": [
    {
     "data": {
      "text/plain": [
       "<AxesSubplot:>"
      ]
     },
     "execution_count": 8,
     "metadata": {},
     "output_type": "execute_result"
    },
    {
     "data": {
      "image/png": "[encoded data removed]",
      "text/plain": [
       "<Figure size 432x288 with 2 Axes>"
      ]
     },
     "metadata": {
      "needs_background": "light"
     },
     "output_type": "display_data"
    }
   ],
   "source": [
    "cm_gs = confusion_matrix(y_test, tree_gs.predict(X_test))\n",
    "sns.heatmap(cm_gs,\n",
    "           annot = True,\n",
    "           square = True,\n",
    "           cmap = \"Blues\")"
   ]
  },
  {
   "cell_type": "markdown",
   "id": "f9ae7717",
   "metadata": {
    "execution": {
     "iopub.execute_input": "2022-11-11T17:03:34.858435Z",
     "iopub.status.busy": "2022-11-11T17:03:34.858027Z",
     "iopub.status.idle": "2022-11-11T17:03:34.866875Z",
     "shell.execute_reply": "2022-11-11T17:03:34.865533Z",
     "shell.execute_reply.started": "2022-11-11T17:03:34.858390Z"
    },
    "papermill": {
     "duration": 0.008095,
     "end_time": "2022-11-11T17:29:41.032153",
     "exception": false,
     "start_time": "2022-11-11T17:29:41.024058",
     "status": "completed"
    },
    "tags": []
   },
   "source": [
    "Here we have a little improvement in our model but false negative rate is always a little high. \n",
    "\n",
    "Maybe our dataset is to small to refine this. Having more samples would be great."
   ]
  },
  {
   "cell_type": "markdown",
   "id": "b943925c",
   "metadata": {
    "papermill": {
     "duration": 0.008149,
     "end_time": "2022-11-11T17:29:41.048689",
     "exception": false,
     "start_time": "2022-11-11T17:29:41.040540",
     "status": "completed"
    },
    "tags": []
   },
   "source": [
    "### Logistic Regression\n"
   ]
  },
  {
   "cell_type": "code",
   "execution_count": 9,
   "id": "b80c6188",
   "metadata": {
    "execution": {
     "iopub.execute_input": "2022-11-11T17:29:41.068430Z",
     "iopub.status.busy": "2022-11-11T17:29:41.068018Z",
     "iopub.status.idle": "2022-11-11T17:29:41.079481Z",
     "shell.execute_reply": "2022-11-11T17:29:41.078207Z"
    },
    "papermill": {
     "duration": 0.024965,
     "end_time": "2022-11-11T17:29:41.082324",
     "exception": false,
     "start_time": "2022-11-11T17:29:41.057359",
     "status": "completed"
    },
    "tags": []
   },
   "outputs": [],
   "source": [
    "# Normalizing the data\n",
    "from sklearn.preprocessing import StandardScaler\n",
    "\n",
    "scl = StandardScaler()\n",
    "X_train_scl = scl.fit_transform(X_train)\n",
    "X_test_scl = scl.transform(X_test)\n"
   ]
  },
  {
   "cell_type": "code",
   "execution_count": 10,
   "id": "fb48852c",
   "metadata": {
    "execution": {
     "iopub.execute_input": "2022-11-11T17:29:41.101385Z",
     "iopub.status.busy": "2022-11-11T17:29:41.100925Z",
     "iopub.status.idle": "2022-11-11T17:29:41.126491Z",
     "shell.execute_reply": "2022-11-11T17:29:41.124917Z"
    },
    "papermill": {
     "duration": 0.038332,
     "end_time": "2022-11-11T17:29:41.129304",
     "exception": false,
     "start_time": "2022-11-11T17:29:41.090972",
     "status": "completed"
    },
    "tags": []
   },
   "outputs": [
    {
     "data": {
      "text/plain": [
       "(0.8603603603603603, 0.8266666666666667)"
      ]
     },
     "execution_count": 10,
     "metadata": {},
     "output_type": "execute_result"
    }
   ],
   "source": [
    "lg = LogisticRegression()\n",
    "lg.fit(X_train_scl, y_train)\n",
    "lg.score(X_train_scl, y_train), lg.score(X_test_scl, y_test)"
   ]
  },
  {
   "cell_type": "code",
   "execution_count": 11,
   "id": "545d1d1f",
   "metadata": {
    "execution": {
     "iopub.execute_input": "2022-11-11T17:29:41.148186Z",
     "iopub.status.busy": "2022-11-11T17:29:41.147763Z",
     "iopub.status.idle": "2022-11-11T17:29:41.910443Z",
     "shell.execute_reply": "2022-11-11T17:29:41.909601Z"
    },
    "papermill": {
     "duration": 0.774964,
     "end_time": "2022-11-11T17:29:41.912922",
     "exception": false,
     "start_time": "2022-11-11T17:29:41.137958",
     "status": "completed"
    },
    "tags": []
   },
   "outputs": [
    {
     "name": "stdout",
     "output_type": "stream",
     "text": [
      "Fitting 5 folds for each of 50 candidates, totalling 250 fits\n"
     ]
    },
    {
     "data": {
      "text/plain": [
       "GridSearchCV(cv=5, estimator=LogisticRegression(), n_jobs=-1,\n",
       "             param_grid={'C': array([1.00000000e-04, 1.45634848e-04, 2.12095089e-04, 3.08884360e-04,\n",
       "       4.49843267e-04, 6.55128557e-04, 9.54095476e-04, 1.38949549e-03,\n",
       "       2.02358965e-03, 2.94705170e-03, 4.29193426e-03, 6.25055193e-03,\n",
       "       9.10298178e-03, 1.32571137e-02, 1.93069773e-02, 2.81176870e-02,\n",
       "       4.09491506e-02, 5.96362332e-0...\n",
       "       3.72759372e+00, 5.42867544e+00, 7.90604321e+00, 1.15139540e+01,\n",
       "       1.67683294e+01, 2.44205309e+01, 3.55648031e+01, 5.17947468e+01,\n",
       "       7.54312006e+01, 1.09854114e+02, 1.59985872e+02, 2.32995181e+02,\n",
       "       3.39322177e+02, 4.94171336e+02, 7.19685673e+02, 1.04811313e+03,\n",
       "       1.52641797e+03, 2.22299648e+03, 3.23745754e+03, 4.71486636e+03,\n",
       "       6.86648845e+03, 1.00000000e+04]),\n",
       "                         'penalty': ['l2']},\n",
       "             scoring='f1', verbose=1)"
      ]
     },
     "execution_count": 11,
     "metadata": {},
     "output_type": "execute_result"
    }
   ],
   "source": [
    "param_dict2 = {\"C\": np.logspace(-4, 4, 50),\n",
    "              \"penalty\": [\"l2\"]}\n",
    "\n",
    "lg_gs = GridSearchCV(lg,\n",
    "                    param_grid = param_dict2,\n",
    "                    cv = 5,\n",
    "                    verbose = 1,\n",
    "                    n_jobs = -1,\n",
    "                    scoring = \"f1\")\n",
    "\n",
    "lg_gs.fit(X_train_scl, y_train)"
   ]
  },
  {
   "cell_type": "code",
   "execution_count": 12,
   "id": "e4986acd",
   "metadata": {
    "execution": {
     "iopub.execute_input": "2022-11-11T17:29:41.932895Z",
     "iopub.status.busy": "2022-11-11T17:29:41.932142Z",
     "iopub.status.idle": "2022-11-11T17:29:41.940391Z",
     "shell.execute_reply": "2022-11-11T17:29:41.939170Z"
    },
    "papermill": {
     "duration": 0.020954,
     "end_time": "2022-11-11T17:29:41.942809",
     "exception": false,
     "start_time": "2022-11-11T17:29:41.921855",
     "status": "completed"
    },
    "tags": []
   },
   "outputs": [
    {
     "data": {
      "text/plain": [
       "0.7999999999999999"
      ]
     },
     "execution_count": 12,
     "metadata": {},
     "output_type": "execute_result"
    }
   ],
   "source": [
    "lg_gs.score(X_test_scl, y_test)"
   ]
  },
  {
   "cell_type": "code",
   "execution_count": 13,
   "id": "72da3048",
   "metadata": {
    "execution": {
     "iopub.execute_input": "2022-11-11T17:29:41.962388Z",
     "iopub.status.busy": "2022-11-11T17:29:41.961967Z",
     "iopub.status.idle": "2022-11-11T17:29:42.250302Z",
     "shell.execute_reply": "2022-11-11T17:29:42.248457Z"
    },
    "papermill": {
     "duration": 0.301194,
     "end_time": "2022-11-11T17:29:42.253028",
     "exception": false,
     "start_time": "2022-11-11T17:29:41.951834",
     "status": "completed"
    },
    "tags": []
   },
   "outputs": [
    {
     "data": {
      "text/plain": [
       "<AxesSubplot:>"
      ]
     },
     "execution_count": 13,
     "metadata": {},
     "output_type": "execute_result"
    },
    {
     "data": {
      "image/png": "[encoded data removed]",
      "text/plain": [
       "<Figure size 432x288 with 2 Axes>"
      ]
     },
     "metadata": {
      "needs_background": "light"
     },
     "output_type": "display_data"
    }
   ],
   "source": [
    "cm_lg_gs = confusion_matrix(y_test, lg_gs.predict(X_test_scl))\n",
    "\n",
    "sns.heatmap(cm_lg_gs,\n",
    "           annot = True,\n",
    "           square = True,\n",
    "           cmap = \"Blues\")"
   ]
  },
  {
   "cell_type": "markdown",
   "id": "8be738c7",
   "metadata": {
    "papermill": {
     "duration": 0.008931,
     "end_time": "2022-11-11T17:29:42.271237",
     "exception": false,
     "start_time": "2022-11-11T17:29:42.262306",
     "status": "completed"
    },
    "tags": []
   },
   "source": [
    "### KNeighbors"
   ]
  },
  {
   "cell_type": "code",
   "execution_count": 14,
   "id": "1042c98b",
   "metadata": {
    "execution": {
     "iopub.execute_input": "2022-11-11T17:29:42.295831Z",
     "iopub.status.busy": "2022-11-11T17:29:42.295339Z",
     "iopub.status.idle": "2022-11-11T17:29:42.328290Z",
     "shell.execute_reply": "2022-11-11T17:29:42.327107Z"
    },
    "papermill": {
     "duration": 0.050167,
     "end_time": "2022-11-11T17:29:42.330965",
     "exception": false,
     "start_time": "2022-11-11T17:29:42.280798",
     "status": "completed"
    },
    "tags": []
   },
   "outputs": [
    {
     "data": {
      "text/plain": [
       "(0.7567567567567568, 0.6533333333333333)"
      ]
     },
     "execution_count": 14,
     "metadata": {},
     "output_type": "execute_result"
    }
   ],
   "source": [
    "knn = KNeighborsClassifier()\n",
    "knn.fit(X_train, y_train)\n",
    "knn.score(X_train, y_train), knn.score(X_test, y_test)"
   ]
  },
  {
   "cell_type": "code",
   "execution_count": 15,
   "id": "857fcebb",
   "metadata": {
    "execution": {
     "iopub.execute_input": "2022-11-11T17:29:42.352359Z",
     "iopub.status.busy": "2022-11-11T17:29:42.351507Z",
     "iopub.status.idle": "2022-11-11T17:29:43.452734Z",
     "shell.execute_reply": "2022-11-11T17:29:43.451618Z"
    },
    "papermill": {
     "duration": 1.114713,
     "end_time": "2022-11-11T17:29:43.455117",
     "exception": false,
     "start_time": "2022-11-11T17:29:42.340404",
     "status": "completed"
    },
    "tags": []
   },
   "outputs": [
    {
     "name": "stdout",
     "output_type": "stream",
     "text": [
      "Fitting 10 folds for each of 30 candidates, totalling 300 fits\n"
     ]
    },
    {
     "data": {
      "text/plain": [
       "GridSearchCV(cv=10, estimator=KNeighborsClassifier(), n_jobs=-1,\n",
       "             param_grid={'n_neighbors': [1, 2, 3, 4, 5, 6, 7, 8, 9, 10, 11, 12,\n",
       "                                         13, 14, 15, 16, 17, 18, 19, 20, 21, 22,\n",
       "                                         23, 24, 25, 26, 27, 28, 29, 30]},\n",
       "             verbose=1)"
      ]
     },
     "execution_count": 15,
     "metadata": {},
     "output_type": "execute_result"
    }
   ],
   "source": [
    "k_range = list(range(1, 31))\n",
    "param_dict3 = dict(n_neighbors=k_range)\n",
    "\n",
    "knn_gs = GridSearchCV(knn,\n",
    "                     param_grid = param_dict3,\n",
    "                     cv = 10,\n",
    "                     verbose = 1,\n",
    "                     n_jobs = -1)\n",
    "knn_gs.fit(X_train, y_train)"
   ]
  },
  {
   "cell_type": "code",
   "execution_count": 16,
   "id": "ccf856df",
   "metadata": {
    "execution": {
     "iopub.execute_input": "2022-11-11T17:29:43.476272Z",
     "iopub.status.busy": "2022-11-11T17:29:43.475873Z",
     "iopub.status.idle": "2022-11-11T17:29:43.490235Z",
     "shell.execute_reply": "2022-11-11T17:29:43.489305Z"
    },
    "papermill": {
     "duration": 0.027948,
     "end_time": "2022-11-11T17:29:43.492588",
     "exception": false,
     "start_time": "2022-11-11T17:29:43.464640",
     "status": "completed"
    },
    "tags": []
   },
   "outputs": [
    {
     "data": {
      "text/plain": [
       "0.68"
      ]
     },
     "execution_count": 16,
     "metadata": {},
     "output_type": "execute_result"
    }
   ],
   "source": [
    "knn_gs.score(X_test, y_test)"
   ]
  },
  {
   "cell_type": "markdown",
   "id": "d9105653",
   "metadata": {
    "papermill": {
     "duration": 0.009244,
     "end_time": "2022-11-11T17:29:43.511544",
     "exception": false,
     "start_time": "2022-11-11T17:29:43.502300",
     "status": "completed"
    },
    "tags": []
   },
   "source": [
    "## Feature Importance\n",
    "\n",
    "Using our `DecisionTree()` model we now look at the features that more are contributing to the predictions.\n"
   ]
  },
  {
   "cell_type": "code",
   "execution_count": 17,
   "id": "2df660dc",
   "metadata": {
    "execution": {
     "iopub.execute_input": "2022-11-11T17:29:43.533520Z",
     "iopub.status.busy": "2022-11-11T17:29:43.532770Z",
     "iopub.status.idle": "2022-11-11T17:29:43.545660Z",
     "shell.execute_reply": "2022-11-11T17:29:43.544469Z"
    },
    "papermill": {
     "duration": 0.027248,
     "end_time": "2022-11-11T17:29:43.548408",
     "exception": false,
     "start_time": "2022-11-11T17:29:43.521160",
     "status": "completed"
    },
    "tags": []
   },
   "outputs": [
    {
     "data": {
      "text/plain": [
       "0.76"
      ]
     },
     "execution_count": 17,
     "metadata": {},
     "output_type": "execute_result"
    }
   ],
   "source": [
    "tree_opt = DecisionTreeClassifier(criterion = \"entropy\",\n",
    "                                 max_depth = 6,\n",
    "                                 min_samples_leaf = 4,\n",
    "                                 min_samples_split = 3)\n",
    "\n",
    "tree_opt.fit(X_train, y_train)\n",
    "tree_opt.score(X_test, y_test)"
   ]
  },
  {
   "cell_type": "code",
   "execution_count": 18,
   "id": "7d9daeb9",
   "metadata": {
    "execution": {
     "iopub.execute_input": "2022-11-11T17:29:43.570012Z",
     "iopub.status.busy": "2022-11-11T17:29:43.569551Z",
     "iopub.status.idle": "2022-11-11T17:29:43.575032Z",
     "shell.execute_reply": "2022-11-11T17:29:43.573723Z"
    },
    "papermill": {
     "duration": 0.019178,
     "end_time": "2022-11-11T17:29:43.577604",
     "exception": false,
     "start_time": "2022-11-11T17:29:43.558426",
     "status": "completed"
    },
    "tags": []
   },
   "outputs": [],
   "source": [
    "importance = tree_opt.feature_importances_"
   ]
  },
  {
   "cell_type": "code",
   "execution_count": 19,
   "id": "bf1c4cc7",
   "metadata": {
    "execution": {
     "iopub.execute_input": "2022-11-11T17:29:43.599149Z",
     "iopub.status.busy": "2022-11-11T17:29:43.598745Z",
     "iopub.status.idle": "2022-11-11T17:29:43.605101Z",
     "shell.execute_reply": "2022-11-11T17:29:43.603792Z"
    },
    "papermill": {
     "duration": 0.020034,
     "end_time": "2022-11-11T17:29:43.607540",
     "exception": false,
     "start_time": "2022-11-11T17:29:43.587506",
     "status": "completed"
    },
    "tags": []
   },
   "outputs": [],
   "source": [
    "feature_importance = pd.DataFrame(importance, index = X.columns)\n",
    "feature_importance.columns = [\"Importance\"]\n",
    "    \n",
    "    "
   ]
  },
  {
   "cell_type": "code",
   "execution_count": 20,
   "id": "3b657727",
   "metadata": {
    "execution": {
     "iopub.execute_input": "2022-11-11T17:29:43.628904Z",
     "iopub.status.busy": "2022-11-11T17:29:43.628479Z",
     "iopub.status.idle": "2022-11-11T17:29:43.951263Z",
     "shell.execute_reply": "2022-11-11T17:29:43.949795Z"
    },
    "papermill": {
     "duration": 0.336894,
     "end_time": "2022-11-11T17:29:43.954321",
     "exception": false,
     "start_time": "2022-11-11T17:29:43.617427",
     "status": "completed"
    },
    "tags": []
   },
   "outputs": [
    {
     "data": {
      "image/png": "[encoded data removed]",
      "text/plain": [
       "<Figure size 1080x720 with 1 Axes>"
      ]
     },
     "metadata": {
      "needs_background": "light"
     },
     "output_type": "display_data"
    }
   ],
   "source": [
    "data = feature_importance.sort_values(\"Importance\")\n",
    "data.plot(kind = \"barh\", figsize = (15, 10))\n",
    "plt.title(\"Feature Importance\")\n",
    "plt.show()"
   ]
  },
  {
   "cell_type": "code",
   "execution_count": null,
   "id": "ff8cfb2c",
   "metadata": {
    "papermill": {
     "duration": 0.009752,
     "end_time": "2022-11-11T17:29:43.974562",
     "exception": false,
     "start_time": "2022-11-11T17:29:43.964810",
     "status": "completed"
    },
    "tags": []
   },
   "outputs": [],
   "source": []
  }
 ],
 "metadata": {
  "kernelspec": {
   "display_name": "Python 3",
   "language": "python",
   "name": "python3"
  },
  "language_info": {
   "codemirror_mode": {
    "name": "ipython",
    "version": 3
   },
   "file_extension": ".py",
   "mimetype": "text/x-python",
   "name": "python",
   "nbconvert_exporter": "python",
   "pygments_lexer": "ipython3",
   "version": "3.7.12"
  },
  "papermill": {
   "default_parameters": {},
   "duration": 23.563689,
   "end_time": "2022-11-11T17:29:46.607987",
   "environment_variables": {},
   "exception": null,
   "input_path": "__notebook__.ipynb",
   "output_path": "__notebook__.ipynb",
   "parameters": {},
   "start_time": "2022-11-11T17:29:23.044298",
   "version": "2.3.4"
  }
 },
 "nbformat": 4,
 "nbformat_minor": 5
}
